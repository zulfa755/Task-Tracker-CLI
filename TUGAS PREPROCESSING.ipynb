{
  "nbformat": 4,
  "nbformat_minor": 0,
  "metadata": {
    "colab": {
      "provenance": [],
      "authorship_tag": "ABX9TyP5aMRf2LgyS60nd/YhbL4x",
      "include_colab_link": true
    },
    "kernelspec": {
      "name": "python3",
      "display_name": "Python 3"
    },
    "language_info": {
      "name": "python"
    }
  },
  "cells": [
    {
      "cell_type": "markdown",
      "metadata": {
        "id": "view-in-github",
        "colab_type": "text"
      },
      "source": [
        "<a href=\"https://colab.research.google.com/github/zulfa755/Task-Tracker-CLI/blob/main/Untitled2.ipynb\" target=\"_parent\"><img src=\"https://colab.research.google.com/assets/colab-badge.svg\" alt=\"Open In Colab\"/></a>"
      ]
    },
    {
      "cell_type": "code",
      "execution_count": null,
      "metadata": {
        "id": "Q5BwijerK0uJ"
      },
      "outputs": [],
      "source": [
        "import pandas as pd\n",
        "import numpy as np"
      ]
    },
    {
      "cell_type": "code",
      "source": [
        "data = pd.read_csv(\"/content/produk_elektronik.csv\")"
      ],
      "metadata": {
        "id": "WOXJOtbvOOZ8"
      },
      "execution_count": null,
      "outputs": []
    },
    {
      "cell_type": "code",
      "source": [
        "# 1b: Tampilkan informasi tipe data dan jumlah missing values\n",
        "print(\"Tipe data tiap kolom:\\n\")\n",
        "print(data.dtypes)\n",
        "print(\"\\nJumlah missing values di setiap kolom:\\n\")\n",
        "print(data.isnull().sum())"
      ],
      "metadata": {
        "colab": {
          "base_uri": "https://localhost:8080/"
        },
        "id": "Qi83ZjZAPPFK",
        "outputId": "b0d8ab95-ea86-46a4-8b77-1e59f09f4d39"
      },
      "execution_count": null,
      "outputs": [
        {
          "output_type": "stream",
          "name": "stdout",
          "text": [
            "Tipe data tiap kolom:\n",
            "\n",
            "produk_id          int64\n",
            "nama_produk       object\n",
            "kategori          object\n",
            "harga            float64\n",
            "rating           float64\n",
            "jumlah_ulasan    float64\n",
            "negara_asal       object\n",
            "dtype: object\n",
            "\n",
            "Jumlah missing values di setiap kolom:\n",
            "\n",
            "produk_id         0\n",
            "nama_produk       0\n",
            "kategori          0\n",
            "harga            30\n",
            "rating           50\n",
            "jumlah_ulasan    20\n",
            "negara_asal       0\n",
            "dtype: int64\n"
          ]
        }
      ]
    },
    {
      "cell_type": "markdown",
      "source": [],
      "metadata": {
        "id": "0AQ9kt7p-5sb"
      }
    },
    {
      "cell_type": "code",
      "source": [
        "# 2a: Hitung jumlah missing values per kolom\n",
        "missing_values = data.isnull().sum()\n",
        "print(\"\\nJumlah missing values per kolom:\\n\", missing_values)"
      ],
      "metadata": {
        "colab": {
          "base_uri": "https://localhost:8080/"
        },
        "id": "Y9HZ7A66PUgT",
        "outputId": "f3b1106e-df54-4581-f7cf-a657e25f196d"
      },
      "execution_count": null,
      "outputs": [
        {
          "output_type": "stream",
          "name": "stdout",
          "text": [
            "\n",
            "Jumlah missing values per kolom:\n",
            " produk_id         0\n",
            "nama_produk       0\n",
            "kategori          0\n",
            "harga            30\n",
            "rating           50\n",
            "jumlah_ulasan    20\n",
            "negara_asal       0\n",
            "dtype: int64\n"
          ]
        }
      ]
    },
    {
      "cell_type": "code",
      "source": [
        "# 2c: Tentukan metode untuk menangani missing values (imputasi)\n",
        "def handle_missing_values(data):\n",
        "    for col in data.columns:\n",
        "        if data[col].isnull().sum() > 0:\n",
        "            if data[col].dtype in [np.float64, np.int64]:\n",
        "                data[col].fillna(data[col].mean(), inplace=True)  # Imputasi dengan mean\n",
        "            else:\n",
        "                data[col].fillna(data[col].mode()[0], inplace=True)  # Imputasi dengan mode\n",
        "handle_missing_values(data)"
      ],
      "metadata": {
        "id": "PBX8DOZ4Qc-y"
      },
      "execution_count": null,
      "outputs": []
    },
    {
      "cell_type": "code",
      "source": [
        "# 2d: Cek kembali missing values setelah penanganan\n",
        "print(\"\\nMissing values setelah penanganan:\\n\")\n",
        "print(data.isnull().sum())"
      ],
      "metadata": {
        "colab": {
          "base_uri": "https://localhost:8080/"
        },
        "id": "2M3sqEP0QhMK",
        "outputId": "82d9bcda-f060-490b-8ef3-b49da15cbb24"
      },
      "execution_count": null,
      "outputs": [
        {
          "output_type": "stream",
          "name": "stdout",
          "text": [
            "\n",
            "Missing values setelah penanganan:\n",
            "\n",
            "produk_id        0\n",
            "nama_produk      0\n",
            "kategori         0\n",
            "harga            0\n",
            "rating           0\n",
            "jumlah_ulasan    0\n",
            "negara_asal      0\n",
            "dtype: int64\n"
          ]
        }
      ]
    },
    {
      "cell_type": "code",
      "source": [
        "# 3a: Identifikasi outlier dengan metode IQR\n",
        "def detect_outliers(data, column):\n",
        "    Q1 = data[column].quantile(0.25)\n",
        "    Q3 = data[column].quantile(0.75)\n",
        "    IQR = Q3 - Q1\n",
        "    lower_bound = Q1 - 1.5 * IQR\n",
        "    upper_bound = Q3 + 1.5 * IQR\n",
        "    return data[(data[column] < lower_bound) | (data[column] > upper_bound)]\n",
        "\n",
        "numerical_columns = data.select_dtypes(include=[np.number]).columns\n",
        "for col in numerical_columns:\n",
        "    outliers = detect_outliers(data, col)\n",
        "    print(f\"Kolom: {col}, Jumlah outlier: {len(outliers)}\")"
      ],
      "metadata": {
        "colab": {
          "base_uri": "https://localhost:8080/"
        },
        "id": "fGWmOmNrQuRu",
        "outputId": "902663e1-ad0f-4171-ac9b-ce0ad6c337dd"
      },
      "execution_count": null,
      "outputs": [
        {
          "output_type": "stream",
          "name": "stdout",
          "text": [
            "Kolom: produk_id, Jumlah outlier: 0\n",
            "Kolom: harga, Jumlah outlier: 14\n",
            "Kolom: rating, Jumlah outlier: 0\n",
            "Kolom: jumlah_ulasan, Jumlah outlier: 0\n"
          ]
        }
      ]
    },
    {
      "cell_type": "code",
      "source": [
        "# 3c: Pilih metode untuk menangani outlier (Winsorization)\n",
        "def handle_outliers(data, column):\n",
        "    Q1 = data[column].quantile(0.25)\n",
        "    Q3 = data[column].quantile(0.75)\n",
        "    IQR = Q3 - Q1\n",
        "    lower_bound = Q1 - 1.5 * IQR\n",
        "    upper_bound = Q3 + 1.5 * IQR\n",
        "    data[column] = np.where(data[column] < lower_bound, lower_bound, data[column])\n",
        "    data[column] = np.where(data[column] > upper_bound, upper_bound, data[column])\n",
        "\n",
        "for col in numerical_columns:\n",
        "    handle_outliers(data, col)"
      ],
      "metadata": {
        "id": "VmRJwX0wQ0D9"
      },
      "execution_count": null,
      "outputs": []
    },
    {
      "cell_type": "code",
      "source": [
        "# 3d: Cek kembali outlier setelah penanganan\n",
        "for col in numerical_columns:\n",
        "    print(f\"Kolom: {col}, Jumlah outlier setelah penanganan: {len(detect_outliers(data, col))}\")"
      ],
      "metadata": {
        "colab": {
          "base_uri": "https://localhost:8080/"
        },
        "id": "KSth5XR6Q7rL",
        "outputId": "5e5ffbf8-4ddd-4895-d325-a218fe9cd999"
      },
      "execution_count": null,
      "outputs": [
        {
          "output_type": "stream",
          "name": "stdout",
          "text": [
            "Kolom: produk_id, Jumlah outlier setelah penanganan: 0\n",
            "Kolom: harga, Jumlah outlier setelah penanganan: 0\n",
            "Kolom: rating, Jumlah outlier setelah penanganan: 0\n",
            "Kolom: jumlah_ulasan, Jumlah outlier setelah penanganan: 0\n"
          ]
        }
      ]
    },
    {
      "cell_type": "code",
      "source": [
        "# 4a: Identifikasi kolom yang memerlukan encoding\n",
        "categorical_columns = data.select_dtypes(include=[object]).columns\n",
        "print(\"\\nKolom kategori yang memerlukan encoding:\\n\", categorical_columns)"
      ],
      "metadata": {
        "colab": {
          "base_uri": "https://localhost:8080/"
        },
        "id": "cfrUuCp2RAGf",
        "outputId": "b03c0bd0-ab2f-4ff3-fac9-602030242783"
      },
      "execution_count": null,
      "outputs": [
        {
          "output_type": "stream",
          "name": "stdout",
          "text": [
            "\n",
            "Kolom kategori yang memerlukan encoding:\n",
            " Index(['nama_produk', 'kategori', 'negara_asal'], dtype='object')\n"
          ]
        }
      ]
    },
    {
      "cell_type": "code",
      "source": [
        "# 4b: Pilih metode encoding (One-Hot Encoding)\n",
        "encoded_data = pd.get_dummies(data, columns=categorical_columns)"
      ],
      "metadata": {
        "id": "duk5ujQ7RKwF"
      },
      "execution_count": null,
      "outputs": []
    },
    {
      "cell_type": "code",
      "source": [
        "print(\"\\nData setelah encoding:\\n\")\n",
        "print(encoded_data.head())\n"
      ],
      "metadata": {
        "id": "6CUavD0jRNoE",
        "outputId": "2daf95da-1bd6-4c52-a268-a3f3ff6b45ae",
        "colab": {
          "base_uri": "https://localhost:8080/"
        }
      },
      "execution_count": null,
      "outputs": [
        {
          "output_type": "stream",
          "name": "stdout",
          "text": [
            "\n",
            "Data setelah encoding:\n",
            "\n",
            "   produk_id  harga  rating  jumlah_ulasan  nama_produk_Produk_1  \\\n",
            "0        1.0  746.0     4.2          273.0                  True   \n",
            "1        2.0  241.0     3.5          239.0                 False   \n",
            "2        3.0  810.0     3.8          209.0                 False   \n",
            "3        4.0  303.0     3.2           59.0                 False   \n",
            "4        5.0  252.0     3.7           76.0                 False   \n",
            "\n",
            "   nama_produk_Produk_10  nama_produk_Produk_100  nama_produk_Produk_101  \\\n",
            "0                  False                   False                   False   \n",
            "1                  False                   False                   False   \n",
            "2                  False                   False                   False   \n",
            "3                  False                   False                   False   \n",
            "4                  False                   False                   False   \n",
            "\n",
            "   nama_produk_Produk_102  nama_produk_Produk_103  ...  kategori_Tablet  \\\n",
            "0                   False                   False  ...            False   \n",
            "1                   False                   False  ...            False   \n",
            "2                   False                   False  ...             True   \n",
            "3                   False                   False  ...            False   \n",
            "4                   False                   False  ...            False   \n",
            "\n",
            "   negara_asal_Canada  negara_asal_China  negara_asal_France  \\\n",
            "0               False              False               False   \n",
            "1                True              False               False   \n",
            "2                True              False               False   \n",
            "3               False              False               False   \n",
            "4               False              False               False   \n",
            "\n",
            "   negara_asal_Germany  negara_asal_India  negara_asal_Japan  \\\n",
            "0                False              False               True   \n",
            "1                False              False              False   \n",
            "2                False              False              False   \n",
            "3                False              False              False   \n",
            "4                False              False              False   \n",
            "\n",
            "   negara_asal_South Korea  negara_asal_UK  negara_asal_USA  \n",
            "0                    False           False            False  \n",
            "1                    False           False            False  \n",
            "2                    False           False            False  \n",
            "3                     True           False            False  \n",
            "4                     True           False            False  \n",
            "\n",
            "[5 rows x 569 columns]\n"
          ]
        }
      ]
    }
  ]
}
