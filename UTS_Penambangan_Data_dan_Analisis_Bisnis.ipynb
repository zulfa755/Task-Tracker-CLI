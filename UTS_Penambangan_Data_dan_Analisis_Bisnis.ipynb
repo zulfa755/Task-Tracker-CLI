{
  "nbformat": 4,
  "nbformat_minor": 0,
  "metadata": {
    "colab": {
      "provenance": [],
      "include_colab_link": true
    },
    "kernelspec": {
      "name": "python3",
      "display_name": "Python 3"
    },
    "language_info": {
      "name": "python"
    }
  },
  "cells": [
    {
      "cell_type": "markdown",
      "metadata": {
        "id": "view-in-github",
        "colab_type": "text"
      },
      "source": [
        "<a href=\"https://colab.research.google.com/github/zulfa755/Task-Tracker-CLI/blob/main/UTS_Penambangan_Data_dan_Analisis_Bisnis.ipynb\" target=\"_parent\"><img src=\"https://colab.research.google.com/assets/colab-badge.svg\" alt=\"Open In Colab\"/></a>"
      ]
    },
    {
      "cell_type": "code",
      "execution_count": 19,
      "metadata": {
        "id": "6J3n4dFAjR6F"
      },
      "outputs": [],
      "source": [
        "import pandas as pd\n",
        "import numpy as np\n",
        "import matplotlib.pyplot as plt\n",
        "import seaborn as sns\n",
        "from sklearn.model_selection import train_test_split\n",
        "from sklearn.linear_model import LogisticRegression\n",
        "from sklearn.ensemble import RandomForestClassifier\n",
        "from sklearn.neighbors import KNeighborsClassifier\n",
        "from sklearn.svm import SVC\n",
        "from sklearn.metrics import accuracy_score,confusion_matrix,classification_report\n",
        "import warnings\n",
        "warnings.filterwarnings('ignore')"
      ]
    },
    {
      "cell_type": "markdown",
      "source": [
        "Memanggil Dataset"
      ],
      "metadata": {
        "id": "K_yMlj6qyg2K"
      }
    },
    {
      "cell_type": "code",
      "source": [
        "file_path = '/content/Titanic-Dataset.csv'\n",
        "titanic_data = pd.read_csv(file_path)\n",
        "print(titanic_data)"
      ],
      "metadata": {
        "colab": {
          "base_uri": "https://localhost:8080/"
        },
        "id": "B56BUPDcyfbb",
        "outputId": "8432de9d-dab0-4cd9-e687-ac66f2c58131"
      },
      "execution_count": 2,
      "outputs": [
        {
          "output_type": "stream",
          "name": "stdout",
          "text": [
            "     PassengerId  Survived  Pclass  \\\n",
            "0              1         0       3   \n",
            "1              2         1       1   \n",
            "2              3         1       3   \n",
            "3              4         1       1   \n",
            "4              5         0       3   \n",
            "..           ...       ...     ...   \n",
            "886          887         0       2   \n",
            "887          888         1       1   \n",
            "888          889         0       3   \n",
            "889          890         1       1   \n",
            "890          891         0       3   \n",
            "\n",
            "                                                  Name     Sex   Age  SibSp  \\\n",
            "0                              Braund, Mr. Owen Harris    male  22.0      1   \n",
            "1    Cumings, Mrs. John Bradley (Florence Briggs Th...  female  38.0      1   \n",
            "2                               Heikkinen, Miss. Laina  female  26.0      0   \n",
            "3         Futrelle, Mrs. Jacques Heath (Lily May Peel)  female  35.0      1   \n",
            "4                             Allen, Mr. William Henry    male  35.0      0   \n",
            "..                                                 ...     ...   ...    ...   \n",
            "886                              Montvila, Rev. Juozas    male  27.0      0   \n",
            "887                       Graham, Miss. Margaret Edith  female  19.0      0   \n",
            "888           Johnston, Miss. Catherine Helen \"Carrie\"  female   NaN      1   \n",
            "889                              Behr, Mr. Karl Howell    male  26.0      0   \n",
            "890                                Dooley, Mr. Patrick    male  32.0      0   \n",
            "\n",
            "     Parch            Ticket     Fare Cabin Embarked  \n",
            "0        0         A/5 21171   7.2500   NaN        S  \n",
            "1        0          PC 17599  71.2833   C85        C  \n",
            "2        0  STON/O2. 3101282   7.9250   NaN        S  \n",
            "3        0            113803  53.1000  C123        S  \n",
            "4        0            373450   8.0500   NaN        S  \n",
            "..     ...               ...      ...   ...      ...  \n",
            "886      0            211536  13.0000   NaN        S  \n",
            "887      0            112053  30.0000   B42        S  \n",
            "888      2        W./C. 6607  23.4500   NaN        S  \n",
            "889      0            111369  30.0000  C148        C  \n",
            "890      0            370376   7.7500   NaN        Q  \n",
            "\n",
            "[891 rows x 12 columns]\n"
          ]
        }
      ]
    },
    {
      "cell_type": "markdown",
      "source": [
        "## 1. Eksplorasi Awal\n",
        "a. Berapa jumlah total penumpang dalam data"
      ],
      "metadata": {
        "id": "2kdfqIAh2bie"
      }
    },
    {
      "cell_type": "code",
      "source": [
        "total_penumpang = titanic_data.shape[0]\n",
        "print(\"Jumlah total penumpang:\", total_penumpang)"
      ],
      "metadata": {
        "colab": {
          "base_uri": "https://localhost:8080/"
        },
        "id": "4K_wEy-uzf_g",
        "outputId": "210e82c6-a9da-4088-f646-edd62d125582"
      },
      "execution_count": 3,
      "outputs": [
        {
          "output_type": "stream",
          "name": "stdout",
          "text": [
            "Jumlah total penumpang: 891\n"
          ]
        }
      ]
    },
    {
      "cell_type": "markdown",
      "source": [],
      "metadata": {
        "id": "7ibN9fh62aW1"
      }
    },
    {
      "cell_type": "markdown",
      "source": [
        "b. Hitung jumlah penumpang yang selamat dam tidak selamat? Tampilkan dalam bentuk tabel dan grafik"
      ],
      "metadata": {
        "id": "0ASol4JY2y5m"
      }
    },
    {
      "cell_type": "code",
      "source": [
        "jumlah_selamat = titanic_data['Survived'].value_counts()\n",
        "tabel_selamat = jumlah_selamat.rename(index={0: 'Tidak Selamat', 1: 'Selamat'})\n",
        "print(\"Jumlah penumpang yang selamat dan tidak selamat:\")\n",
        "print(tabel_selamat)\n",
        "plt.figure(figsize=(8, 5))\n",
        "jumlah_selamat.plot(kind='bar', color=['red', 'green'], alpha=0.7)\n",
        "plt.title('Jumlah Penumpang yang Selamat dan Tidak Selamat')\n",
        "plt.ylabel('Jumlah')\n",
        "plt.xlabel('Status Keselamatan')\n",
        "plt.xticks(ticks=[0, 1], labels=['Tidak Selamat', 'Selamat'], rotation=0)\n",
        "plt.grid(axis='y', linestyle='--', alpha=0.7)\n",
        "plt.tight_layout()\n",
        "plt.show()"
      ],
      "metadata": {
        "colab": {
          "base_uri": "https://localhost:8080/",
          "height": 570
        },
        "id": "ZMyBFzUZ48Y-",
        "outputId": "4d8b1ee6-60bd-4902-d617-ca75313a0506"
      },
      "execution_count": 4,
      "outputs": [
        {
          "output_type": "stream",
          "name": "stdout",
          "text": [
            "Jumlah penumpang yang selamat dan tidak selamat:\n",
            "Survived\n",
            "Tidak Selamat    549\n",
            "Selamat          342\n",
            "Name: count, dtype: int64\n"
          ]
        },
        {
          "output_type": "display_data",
          "data": {
            "text/plain": [
              "<Figure size 800x500 with 1 Axes>"
            ],
            "image/png": "[encoded data removed]"
          },
          "metadata": {}
        }
      ]
    },
    {
      "cell_type": "markdown",
      "source": [
        "c. Berapa rata-rata umur penumpang? Dan siapa penumpang termuda dan tertua"
      ],
      "metadata": {
        "id": "HKwKdshN6mnm"
      }
    },
    {
      "cell_type": "code",
      "source": [
        "rata_rata_umur = titanic_data['Age'].mean()\n",
        "penumpang_termuda = titanic_data[titanic_data['Age'] == titanic_data['Age'].min()] # Filter rows where Age is equal to the minimum age\n",
        "penumpang_tertua = titanic_data[titanic_data['Age'] == titanic_data['Age'].max()]  # Filter rows where Age is equal to the maximum age\n",
        "print(\"Rata-rata umur penumpang:\", rata_rata_umur)\n",
        "print(\"Penumpang Termuda:\")\n",
        "print(penumpang_termuda)\n",
        "print(\"Penumpang Tertua:\")\n",
        "print(penumpang_tertua)"
      ],
      "metadata": {
        "colab": {
          "base_uri": "https://localhost:8080/"
        },
        "id": "id9bjMiF7Q57",
        "outputId": "f5c3e152-1b36-4a67-a904-fdec4f1daa64"
      },
      "execution_count": 5,
      "outputs": [
        {
          "output_type": "stream",
          "name": "stdout",
          "text": [
            "Rata-rata umur penumpang: 29.69911764705882\n",
            "Penumpang Termuda:\n",
            "     PassengerId  Survived  Pclass                             Name   Sex  \\\n",
            "803          804         1       3  Thomas, Master. Assad Alexander  male   \n",
            "\n",
            "      Age  SibSp  Parch Ticket    Fare Cabin Embarked  \n",
            "803  0.42      0      1   2625  8.5167   NaN        C  \n",
            "Penumpang Tertua:\n",
            "     PassengerId  Survived  Pclass                                  Name  \\\n",
            "630          631         1       1  Barkworth, Mr. Algernon Henry Wilson   \n",
            "\n",
            "      Sex   Age  SibSp  Parch Ticket  Fare Cabin Embarked  \n",
            "630  male  80.0      0      0  27042  30.0   A23        S  \n"
          ]
        }
      ]
    },
    {
      "cell_type": "markdown",
      "source": [
        "d. Hitung jumlah penumpang berdasarkan jenis kelamin"
      ],
      "metadata": {
        "id": "onpoMiuT7an9"
      }
    },
    {
      "cell_type": "code",
      "source": [
        "jumlah_gender = titanic_data['Sex'].value_counts()\n",
        "print(\"Jumlah penumpang berdasarkan jenis kelamin:\")\n",
        "print(jumlah_gender)\n"
      ],
      "metadata": {
        "colab": {
          "base_uri": "https://localhost:8080/"
        },
        "id": "vobNQD1N7fb0",
        "outputId": "4263b06a-0a36-4745-bfad-90a408d691da"
      },
      "execution_count": 6,
      "outputs": [
        {
          "output_type": "stream",
          "name": "stdout",
          "text": [
            "Jumlah penumpang berdasarkan jenis kelamin:\n",
            "Sex\n",
            "male      577\n",
            "female    314\n",
            "Name: count, dtype: int64\n"
          ]
        }
      ]
    },
    {
      "cell_type": "markdown",
      "source": [
        "penumpang yang banyak berjenis kelamin laki=laki dengan jumlah 577"
      ],
      "metadata": {
        "id": "1gQ6brle-dzO"
      }
    },
    {
      "cell_type": "code",
      "source": [
        "jumlah_gender.plot(kind='bar', color=['red', 'blue'], alpha=0.7)\n",
        "plt.title('Jumlah Penumpang Berdasarkan Jenis Kelamin')\n",
        "plt.ylabel('Jumlah')\n",
        "plt.xlabel('Jenis Kelamin')\n",
        "plt.grid(axis='y', linestyle='--', alpha=0.7)\n",
        "plt.tight_layout()\n",
        "plt.show()"
      ],
      "metadata": {
        "colab": {
          "base_uri": "https://localhost:8080/",
          "height": 487
        },
        "id": "vvXeUIm0-E7t",
        "outputId": "39c4b7c7-d597-4d57-c026-b3e56f9d4663"
      },
      "execution_count": 7,
      "outputs": [
        {
          "output_type": "display_data",
          "data": {
            "text/plain": [
              "<Figure size 640x480 with 1 Axes>"
            ],
            "image/png": "[encoded data removed]"
          },
          "metadata": {}
        }
      ]
    },
    {
      "cell_type": "markdown",
      "source": [
        "e. Tampilkan jumlah penumpang berdasarkan kelas(Pclass) dan berapa persen dari total data yang berada di kelas 1? visualisasikan"
      ],
      "metadata": {
        "id": "b-3WgdS4AlXt"
      }
    },
    {
      "cell_type": "code",
      "source": [
        "jumlah_kelas = titanic_data['Pclass'].value_counts()\n",
        "persentase_kelas_1 = (jumlah_kelas[1] / jumlah_kelas.sum()) * 100\n",
        "print(\"Jumlah penumpang berdasarkan kelas:\")\n",
        "print(jumlah_kelas)\n",
        "print(\"Persentase penumpang kelas 1:\", persentase_kelas_1, \"%\")"
      ],
      "metadata": {
        "colab": {
          "base_uri": "https://localhost:8080/"
        },
        "id": "KmAosWiuA1mt",
        "outputId": "97f78224-3956-40dd-83b7-8202eb9739bb"
      },
      "execution_count": 8,
      "outputs": [
        {
          "output_type": "stream",
          "name": "stdout",
          "text": [
            "Jumlah penumpang berdasarkan kelas:\n",
            "Pclass\n",
            "3    491\n",
            "1    216\n",
            "2    184\n",
            "Name: count, dtype: int64\n",
            "Persentase penumpang kelas 1: 24.242424242424242 %\n"
          ]
        }
      ]
    },
    {
      "cell_type": "code",
      "source": [
        "jumlah_kelas.plot(kind='bar', color=['red', 'green', 'blue'], alpha=0.7)\n",
        "plt.title('Jumlah Penumpang Berdasarkan Kelas')\n",
        "plt.ylabel('Jumlah')\n",
        "plt.xlabel('Kelas')\n",
        "plt.grid(axis='y', linestyle='--', alpha=0.7)\n",
        "plt.tight_layout()\n",
        "plt.show()"
      ],
      "metadata": {
        "colab": {
          "base_uri": "https://localhost:8080/",
          "height": 487
        },
        "id": "s9m_s8XmBEyR",
        "outputId": "94cb9165-7297-46f8-ed8f-3cd69191ca49"
      },
      "execution_count": 9,
      "outputs": [
        {
          "output_type": "display_data",
          "data": {
            "text/plain": [
              "<Figure size 640x480 with 1 Axes>"
            ],
            "image/png": "[encoded data removed]"
          },
          "metadata": {}
        }
      ]
    },
    {
      "cell_type": "markdown",
      "source": [
        "## 2. Prepocessing\n",
        "a. apakah terdapat missing value pada data tersebut"
      ],
      "metadata": {
        "id": "GL40R-qkBPef"
      }
    },
    {
      "cell_type": "code",
      "source": [
        "nilai_hilang= titanic_data.isnull().sum()\n",
        "print(nilai_hilang)"
      ],
      "metadata": {
        "colab": {
          "base_uri": "https://localhost:8080/"
        },
        "id": "OIdvZUp1GYhg",
        "outputId": "769111fd-9055-445a-95c4-d1efa00707f6"
      },
      "execution_count": 10,
      "outputs": [
        {
          "output_type": "stream",
          "name": "stdout",
          "text": [
            "PassengerId      0\n",
            "Survived         0\n",
            "Pclass           0\n",
            "Name             0\n",
            "Sex              0\n",
            "Age            177\n",
            "SibSp            0\n",
            "Parch            0\n",
            "Ticket           0\n",
            "Fare             0\n",
            "Cabin          687\n",
            "Embarked         2\n",
            "dtype: int64\n"
          ]
        }
      ]
    },
    {
      "cell_type": "markdown",
      "source": [
        "b. jika ya, apa yang anda lakukan?"
      ],
      "metadata": {
        "id": "mBOs66PHGkP9"
      }
    },
    {
      "cell_type": "code",
      "source": [
        "titanic_data['Age'].fillna(titanic_data['Age'].mean(), inplace=True)\n",
        "titanic_data['Embarked'].fillna(titanic_data['Embarked'].mode()[0], inplace=True)\n",
        "print(titanic_data)"
      ],
      "metadata": {
        "colab": {
          "base_uri": "https://localhost:8080/"
        },
        "id": "cmdVjYBYGo0-",
        "outputId": "53a5c9a6-b7d2-4196-eef1-bc3ee91421be"
      },
      "execution_count": 11,
      "outputs": [
        {
          "output_type": "stream",
          "name": "stdout",
          "text": [
            "     PassengerId  Survived  Pclass  \\\n",
            "0              1         0       3   \n",
            "1              2         1       1   \n",
            "2              3         1       3   \n",
            "3              4         1       1   \n",
            "4              5         0       3   \n",
            "..           ...       ...     ...   \n",
            "886          887         0       2   \n",
            "887          888         1       1   \n",
            "888          889         0       3   \n",
            "889          890         1       1   \n",
            "890          891         0       3   \n",
            "\n",
            "                                                  Name     Sex        Age  \\\n",
            "0                              Braund, Mr. Owen Harris    male  22.000000   \n",
            "1    Cumings, Mrs. John Bradley (Florence Briggs Th...  female  38.000000   \n",
            "2                               Heikkinen, Miss. Laina  female  26.000000   \n",
            "3         Futrelle, Mrs. Jacques Heath (Lily May Peel)  female  35.000000   \n",
            "4                             Allen, Mr. William Henry    male  35.000000   \n",
            "..                                                 ...     ...        ...   \n",
            "886                              Montvila, Rev. Juozas    male  27.000000   \n",
            "887                       Graham, Miss. Margaret Edith  female  19.000000   \n",
            "888           Johnston, Miss. Catherine Helen \"Carrie\"  female  29.699118   \n",
            "889                              Behr, Mr. Karl Howell    male  26.000000   \n",
            "890                                Dooley, Mr. Patrick    male  32.000000   \n",
            "\n",
            "     SibSp  Parch            Ticket     Fare Cabin Embarked  \n",
            "0        1      0         A/5 21171   7.2500   NaN        S  \n",
            "1        1      0          PC 17599  71.2833   C85        C  \n",
            "2        0      0  STON/O2. 3101282   7.9250   NaN        S  \n",
            "3        1      0            113803  53.1000  C123        S  \n",
            "4        0      0            373450   8.0500   NaN        S  \n",
            "..     ...    ...               ...      ...   ...      ...  \n",
            "886      0      0            211536  13.0000   NaN        S  \n",
            "887      0      0            112053  30.0000   B42        S  \n",
            "888      1      2        W./C. 6607  23.4500   NaN        S  \n",
            "889      0      0            111369  30.0000  C148        C  \n",
            "890      0      0            370376   7.7500   NaN        Q  \n",
            "\n",
            "[891 rows x 12 columns]\n"
          ]
        }
      ]
    },
    {
      "cell_type": "markdown",
      "source": [
        "Imputasi nilai hilang dengan nilai rata-rata (untuk numerik).\n",
        "\n",
        "Gunakan mode  (untuk kategorikal)."
      ],
      "metadata": {
        "id": "xVzsqr3hHMNs"
      }
    },
    {
      "cell_type": "markdown",
      "source": [
        "c. Apakah terdapat outlier pada data tersebut? Jelaskan apa itu outlier"
      ],
      "metadata": {
        "id": "ruhmpiWoHSeS"
      }
    },
    {
      "cell_type": "code",
      "source": [
        "plt.figure(figsize=(8, 5))\n",
        "sns.boxplot(x=titanic_data['Age'])\n",
        "plt.title('Boxplot of Age')\n",
        "plt.show()"
      ],
      "metadata": {
        "colab": {
          "base_uri": "https://localhost:8080/",
          "height": 487
        },
        "id": "yAugxxalHjGj",
        "outputId": "e42967c6-4c42-4862-8a47-b7eb983b23df"
      },
      "execution_count": 12,
      "outputs": [
        {
          "output_type": "display_data",
          "data": {
            "text/plain": [
              "<Figure size 800x500 with 1 Axes>"
            ],
            "image/png": "[encoded data removed]"
          },
          "metadata": {}
        }
      ]
    },
    {
      "cell_type": "markdown",
      "source": [
        "ya, terdapat outlier Outlier terlihat di sisi kanan grafik (pada nilai usia yang lebih besar dari sekitar 60 tahun). Ini ditandai oleh titik-titik individu yang berada di luar whisker (garis horizontal yang mewakili batas outlier)."
      ],
      "metadata": {
        "id": "iW32uuvXIJy6"
      }
    },
    {
      "cell_type": "markdown",
      "source": [
        "Outlier adalah nilai yang secara signifikan berbeda dari data lainnya, yang dapat disebabkan oleh kesalahan pengukuran, variasi alami, atau pengamatan unik."
      ],
      "metadata": {
        "id": "-SaTF74RIXMc"
      }
    },
    {
      "cell_type": "markdown",
      "source": [
        "d. Apakah outlier pada data tersebut perlu diatasi serta bagaimana cara mengatasinya?"
      ],
      "metadata": {
        "id": "G0yO9UM2Ndkm"
      }
    },
    {
      "cell_type": "markdown",
      "source": [
        "tidak perlu diatasi karena outlier tidak mempengaruhi model"
      ],
      "metadata": {
        "id": "Nd-3Zh79OVeO"
      }
    },
    {
      "cell_type": "markdown",
      "source": [
        "e. jika dibutuhkan silahkan lakukan transformasi/ standarisasi/ scalling terhadap data tersebut?"
      ],
      "metadata": {
        "id": "a2zYSB6uOipS"
      }
    },
    {
      "cell_type": "code",
      "source": [
        "titanic_data['Fare'] = (titanic_data['Fare'] - titanic_data['Fare'].mean()) / titanic_data['Fare'].std()\n",
        "print(titanic_data['Fare'].head())"
      ],
      "metadata": {
        "colab": {
          "base_uri": "https://localhost:8080/"
        },
        "id": "UfYtOX2MIYix",
        "outputId": "9110ccb3-c8ed-4e8b-a969-24298dce9730"
      },
      "execution_count": 13,
      "outputs": [
        {
          "output_type": "stream",
          "name": "stdout",
          "text": [
            "0   -0.502163\n",
            "1    0.786404\n",
            "2   -0.488580\n",
            "3    0.420494\n",
            "4   -0.486064\n",
            "Name: Fare, dtype: float64\n"
          ]
        }
      ]
    },
    {
      "cell_type": "markdown",
      "source": [
        "Scaling pada data Titanic diperlukan untuk memastikan semua fitur memiliki skala yang seimbang, terutama fitur \"Fare\" yang memiliki rentang nilai besar dan distribusi skewed. Ketidakseimbangan skala ini dapat memengaruhi algoritma berbasis jarak, seperti KNN atau SVM, dan model berbasis optimasi, seperti Regresi Logistik, karena fitur dengan nilai besar cenderung mendominasi."
      ],
      "metadata": {
        "id": "-nJtHrOFRnzp"
      }
    },
    {
      "cell_type": "markdown",
      "source": [
        "## 3. Modelling\n",
        "a. Jelaskan proses pembagian dtaa menjadi data training dan testing dan alasan mengapa perlu membagi data tersebut"
      ],
      "metadata": {
        "id": "X5XLbnejRp9M"
      }
    },
    {
      "cell_type": "code",
      "source": [
        "# Memisahkan fitur (X) dan target (y)\n",
        "X = titanic_data[['Pclass', 'Age', 'Fare', 'SibSp', 'Parch']]  # Contoh fitur\n",
        "y = titanic_data['Survived']\n",
        "\n",
        "# Membagi data\n",
        "X_train, X_test, y_train, y_test = train_test_split(X, y, test_size=0.2, random_state=42, stratify=y)"
      ],
      "metadata": {
        "id": "0a6KEXPGW-qh"
      },
      "execution_count": 14,
      "outputs": []
    },
    {
      "cell_type": "markdown",
      "source": [
        "Data dibagi menjadi training dan testing untuk menghindari overfitting dan menguji kemampuan model pada data baru. Training digunakan untuk melatih model, sedangkan testing mengevaluasi performa model pada data yang belum pernah dilihat sebelumnya. Ini memastikan model dapat menggeneralisasi dengan baik pada data nyata"
      ],
      "metadata": {
        "id": "gnTlDj09YH66"
      }
    },
    {
      "cell_type": "markdown",
      "source": [
        "b. berapa persen pembagiannya? mengapa memilih membagi dengan proporsi tersebut?"
      ],
      "metadata": {
        "id": "_cXmyyaEa-em"
      }
    },
    {
      "cell_type": "code",
      "source": [
        "from sklearn.model_selection import train_test_split\n",
        "\n",
        "# Membagi data menjadi training (80%) dan testing (20%)\n",
        "X_train, X_test, y_train, y_test = train_test_split(X, y, test_size=0.2, random_state=42, stratify=y)\n",
        "\n",
        "print(f\"Proporsi Data Training: {len(X_train) / len(X) * 100:.2f}%\")\n",
        "print(f\"Proporsi Data Testing: {len(X_test) / len(X) * 100:.2f}%\")\n"
      ],
      "metadata": {
        "colab": {
          "base_uri": "https://localhost:8080/"
        },
        "id": "sfUkymXxYqLK",
        "outputId": "26c7cb65-0514-4855-f88c-eb154656a3ae"
      },
      "execution_count": 15,
      "outputs": [
        {
          "output_type": "stream",
          "name": "stdout",
          "text": [
            "Proporsi Data Training: 79.91%\n",
            "Proporsi Data Testing: 20.09%\n"
          ]
        }
      ]
    },
    {
      "cell_type": "markdown",
      "source": [
        "80% Training: Cukup untuk melatih model agar mengenali pola dalam data.\n",
        "\n",
        "20% Testing: Memastikan evaluasi representatif tanpa mengurangi data pelatihan.\n",
        "\n",
        "Keseimbangan Optimal: Proporsi ini sering digunakan karena memberikan hasil pelatihan dan evaluasi yang seimbang."
      ],
      "metadata": {
        "id": "HJ86PBcMa7fe"
      }
    },
    {
      "cell_type": "markdown",
      "source": [
        "c. Buatlah model klasifikasi dari 3 algoritma yang berbeda. jelaskan masing-masing metode dan cara kerjanya"
      ],
      "metadata": {
        "id": "gU1mQYuD5sUb"
      }
    },
    {
      "cell_type": "markdown",
      "source": [
        "1. logistic Regression\n",
        "Cara Kerja: Menggunakan fungsi sigmoid untuk memprediksi probabilitas kategori target (selamat atau tidak)."
      ],
      "metadata": {
        "id": "Ju_evOMu5_dx"
      }
    },
    {
      "cell_type": "code",
      "source": [
        "logreg = LogisticRegression(max_iter=1000)\n",
        "logreg.fit(X_train, y_train)\n",
        "\n",
        "# Prediksi pada data testing\n",
        "y_pred_logreg = logreg.predict(X_test)\n",
        "\n",
        "# Evaluasi model\n",
        "print(\"Classification Report:\\n\", classification_report(y_test, y_pred_logreg))\n",
        "print(\"Accuracy:\", accuracy_score(y_test, y_pred_logreg))"
      ],
      "metadata": {
        "colab": {
          "base_uri": "https://localhost:8080/"
        },
        "id": "S3TtZsdh7NGc",
        "outputId": "48e32d0f-4d48-4e60-8645-d3a8ff22b02d"
      },
      "execution_count": 16,
      "outputs": [
        {
          "output_type": "stream",
          "name": "stdout",
          "text": [
            "Classification Report:\n",
            "               precision    recall  f1-score   support\n",
            "\n",
            "           0       0.69      0.85      0.76       110\n",
            "           1       0.62      0.41      0.49        69\n",
            "\n",
            "    accuracy                           0.68       179\n",
            "   macro avg       0.66      0.63      0.63       179\n",
            "weighted avg       0.67      0.68      0.66       179\n",
            "\n",
            "Accuracy: 0.6759776536312849\n"
          ]
        }
      ]
    },
    {
      "cell_type": "markdown",
      "source": [
        "2. Random Forest\n",
        "Cara Kerja: Kombinasi dari banyak pohon keputusan yang diacak untuk meningkatkan akurasi dan mengurangi overfitting."
      ],
      "metadata": {
        "id": "4zxB8u0Eew00"
      }
    },
    {
      "cell_type": "code",
      "source": [
        "rf = RandomForestClassifier(random_state=42)\n",
        "rf.fit(X_train, y_train)\n",
        "y_pred_rf = rf.predict(X_test)\n",
        "print(\"Classification Report:\\n\", classification_report(y_test, y_pred_rf))\n",
        "print(\"Accuracy:\", accuracy_score(y_test, y_pred_rf))\n"
      ],
      "metadata": {
        "colab": {
          "base_uri": "https://localhost:8080/"
        },
        "id": "-zOLSwXke1wd",
        "outputId": "95999f36-e6b3-423a-a52c-83e6bff4f31f"
      },
      "execution_count": 17,
      "outputs": [
        {
          "output_type": "stream",
          "name": "stdout",
          "text": [
            "Classification Report:\n",
            "               precision    recall  f1-score   support\n",
            "\n",
            "           0       0.69      0.67      0.68       110\n",
            "           1       0.49      0.51      0.50        69\n",
            "\n",
            "    accuracy                           0.61       179\n",
            "   macro avg       0.59      0.59      0.59       179\n",
            "weighted avg       0.61      0.61      0.61       179\n",
            "\n",
            "Accuracy: 0.6089385474860335\n"
          ]
        }
      ]
    },
    {
      "cell_type": "markdown",
      "source": [
        "3. K-Nearest Neighbors (KNN)\n",
        "Cara Kerja: Memprediksi kategori berdasarkan mayoritas tetangga terdekat dalam ruang fitur."
      ],
      "metadata": {
        "id": "pvBJIPS2e-0G"
      }
    },
    {
      "cell_type": "code",
      "source": [
        "knn = KNeighborsClassifier(n_neighbors=5)\n",
        "knn.fit(X_train, y_train)\n",
        "\n",
        "# Prediksi pada data testing\n",
        "y_pred_knn = knn.predict(X_test)\n",
        "\n",
        "# Evaluasi model\n",
        "print(\"Classification Report:\\n\", classification_report(y_test, y_pred_knn))\n",
        "print(\"Accuracy:\", accuracy_score(y_test, y_pred_knn))"
      ],
      "metadata": {
        "colab": {
          "base_uri": "https://localhost:8080/"
        },
        "id": "Xg-6qF_Dfg0O",
        "outputId": "39530725-9025-423c-92a8-54bf4c7e0572"
      },
      "execution_count": 20,
      "outputs": [
        {
          "output_type": "stream",
          "name": "stdout",
          "text": [
            "Classification Report:\n",
            "               precision    recall  f1-score   support\n",
            "\n",
            "           0       0.67      0.75      0.71       110\n",
            "           1       0.51      0.42      0.46        69\n",
            "\n",
            "    accuracy                           0.62       179\n",
            "   macro avg       0.59      0.58      0.58       179\n",
            "weighted avg       0.61      0.62      0.61       179\n",
            "\n",
            "Accuracy: 0.6201117318435754\n"
          ]
        }
      ]
    },
    {
      "cell_type": "markdown",
      "source": [
        "d. Berapa nilai evaluasi dari masing-masing model dari pada uji data? apa arti masing-masing metrik evaluasi tersebut?"
      ],
      "metadata": {
        "id": "nJHHcyuygKgT"
      }
    },
    {
      "cell_type": "code",
      "source": [
        "\n",
        "# Logistic Regression\n",
        "print(\"Logistic Regression:\\n\", classification_report(y_test, y_pred_logreg))\n",
        "print(\"Accuracy:\", accuracy_score(y_test, y_pred_logreg))\n",
        "\n",
        "# Random Forest\n",
        "print(\"Random Forest:\\n\", classification_report(y_test, y_pred_rf))\n",
        "print(\"Accuracy:\", accuracy_score(y_test, y_pred_rf))\n",
        "\n",
        "# KNN\n",
        "print(\"KNN:\\n\", classification_report(y_test, y_pred_knn))\n",
        "print(\"Accuracy:\", accuracy_score(y_test, y_pred_knn))\n"
      ],
      "metadata": {
        "colab": {
          "base_uri": "https://localhost:8080/"
        },
        "id": "KqwsVcMfglkh",
        "outputId": "7a3b1aa7-9cca-4bfe-f19a-997b6922ef12"
      },
      "execution_count": 21,
      "outputs": [
        {
          "output_type": "stream",
          "name": "stdout",
          "text": [
            "Logistic Regression:\n",
            "               precision    recall  f1-score   support\n",
            "\n",
            "           0       0.69      0.85      0.76       110\n",
            "           1       0.62      0.41      0.49        69\n",
            "\n",
            "    accuracy                           0.68       179\n",
            "   macro avg       0.66      0.63      0.63       179\n",
            "weighted avg       0.67      0.68      0.66       179\n",
            "\n",
            "Accuracy: 0.6759776536312849\n",
            "Random Forest:\n",
            "               precision    recall  f1-score   support\n",
            "\n",
            "           0       0.69      0.67      0.68       110\n",
            "           1       0.49      0.51      0.50        69\n",
            "\n",
            "    accuracy                           0.61       179\n",
            "   macro avg       0.59      0.59      0.59       179\n",
            "weighted avg       0.61      0.61      0.61       179\n",
            "\n",
            "Accuracy: 0.6089385474860335\n",
            "KNN:\n",
            "               precision    recall  f1-score   support\n",
            "\n",
            "           0       0.67      0.75      0.71       110\n",
            "           1       0.51      0.42      0.46        69\n",
            "\n",
            "    accuracy                           0.62       179\n",
            "   macro avg       0.59      0.58      0.58       179\n",
            "weighted avg       0.61      0.62      0.61       179\n",
            "\n",
            "Accuracy: 0.6201117318435754\n"
          ]
        }
      ]
    },
    {
      "cell_type": "markdown",
      "source": [
        "Metrik Evaluasi:\n",
        "\n",
        "Accuracy: Proporsi prediksi benar dari semua prediksi.\n",
        "\n",
        "Precision: Kemampuan model memprediksi dengan benar kategori positif.\n",
        "\n",
        "Recall: Kemampuan model menangkap semua kategori positif.\n",
        "\n",
        "F1-Score: Harmoni antara precision dan recall."
      ],
      "metadata": {
        "id": "d-RW2yPUgzKP"
      }
    },
    {
      "cell_type": "markdown",
      "source": [
        "e. Bandingkan hasil dari ketiga algoritma tersebut, mana yang paling bagus? berikan ulasan kira-kira apa yang menyebabkan metode tersebut dapat memprediksi dataset anda dengan baik"
      ],
      "metadata": {
        "id": "NdntR17Hg2uv"
      }
    },
    {
      "cell_type": "code",
      "source": [
        "# Logistic Regression Evaluation\n",
        "accuracy_logreg = accuracy_score(y_test, y_pred_logreg)\n",
        "report_logreg = classification_report(y_test, y_pred_logreg, output_dict=True)\n",
        "\n",
        "# KNN Evaluation\n",
        "accuracy_knn = accuracy_score(y_test, y_pred_knn)\n",
        "report_knn = classification_report(y_test, y_pred_knn, output_dict=True)\n",
        "\n",
        "# Random Forest Evaluation\n",
        "accuracy_rf = accuracy_score(y_test, y_pred_rf)\n",
        "report_rf = classification_report(y_test, y_pred_rf, output_dict=True)\n",
        "\n",
        "# Comparison Table\n",
        "results = {\n",
        "    \"Algorithm\": [\"Logistic Regression\", \"KNN\", \"Random Forest\"],\n",
        "    \"Accuracy (%)\": [accuracy_logreg * 100, accuracy_knn * 100, accuracy_rf * 100],\n",
        "    \"Precision (Selamat)\": [\n",
        "        report_logreg[\"1\"][\"precision\"],\n",
        "        report_knn[\"1\"][\"precision\"],\n",
        "        report_rf[\"1\"][\"precision\"],\n",
        "    ],\n",
        "    \"Recall (Selamat)\": [\n",
        "        report_logreg[\"1\"][\"recall\"],\n",
        "        report_knn[\"1\"][\"recall\"],\n",
        "        report_rf[\"1\"][\"recall\"],\n",
        "    ],\n",
        "}\n",
        "\n",
        "import pandas as pd\n",
        "comparison_df = pd.DataFrame(results)\n",
        "print(comparison_df)\n"
      ],
      "metadata": {
        "colab": {
          "base_uri": "https://localhost:8080/"
        },
        "id": "LEP3RjxWizDz",
        "outputId": "14bbb33b-43f4-4242-c7fa-c915e87eb560"
      },
      "execution_count": 23,
      "outputs": [
        {
          "output_type": "stream",
          "name": "stdout",
          "text": [
            "             Algorithm  Accuracy (%)  Precision (Selamat)  Recall (Selamat)\n",
            "0  Logistic Regression     67.597765             0.622222          0.405797\n",
            "1                  KNN     62.011173             0.508772          0.420290\n",
            "2        Random Forest     60.893855             0.492958          0.507246\n"
          ]
        }
      ]
    },
    {
      "cell_type": "markdown",
      "source": [
        "Logistic Regression paling baik dalam keseimbangan akurasi dan precision, sehingga cocok untuk aplikasi yang membutuhkan prediksi umum.\n",
        "\n",
        "Random Forest unggul dalam recall, cocok jika fokus adalah mendeteksi sebanyak mungkin penumpang yang benar-benar \"selamat,\" meskipun dengan risiko lebih banyak false positives.\n",
        "\n",
        "Pemilihan metode tergantung pada prioritas: jika recall lebih penting (seperti keselamatan), Random Forest lebih sesuai. Jika akurasi lebih penting, Logistic Regression lebih baik"
      ],
      "metadata": {
        "id": "qvvWP2A-jWjl"
      }
    },
    {
      "cell_type": "markdown",
      "source": [
        "## 4. Evaluasi\n",
        "a. Berdasarkan classification report model terbaik, berapa nilai precission dan recall untuk prediksi penumpang yang \"selamat\"?"
      ],
      "metadata": {
        "id": "pgUStf43jYiY"
      }
    },
    {
      "cell_type": "code",
      "source": [
        "print(\"Classification Report (Random Forest):\")\n",
        "print(classification_report(y_test, y_pred_rf))\n",
        "\n",
        "# Precision dan Recall untuk label \"Selamat\" (1)\n",
        "precision_rf = report_rf[\"1\"][\"precision\"]\n",
        "recall_rf = report_rf[\"1\"][\"recall\"]\n",
        "\n",
        "print(f\"Precision (Selamat): {precision_rf:.2f}\")\n",
        "print(f\"Recall (Selamat): {recall_rf:.2f}\")\n"
      ],
      "metadata": {
        "colab": {
          "base_uri": "https://localhost:8080/"
        },
        "id": "JHEslV3Smp13",
        "outputId": "b570b252-da42-4e3c-ea56-eacdfa339efb"
      },
      "execution_count": 24,
      "outputs": [
        {
          "output_type": "stream",
          "name": "stdout",
          "text": [
            "Classification Report (Random Forest):\n",
            "              precision    recall  f1-score   support\n",
            "\n",
            "           0       0.69      0.67      0.68       110\n",
            "           1       0.49      0.51      0.50        69\n",
            "\n",
            "    accuracy                           0.61       179\n",
            "   macro avg       0.59      0.59      0.59       179\n",
            "weighted avg       0.61      0.61      0.61       179\n",
            "\n",
            "Precision (Selamat): 0.49\n",
            "Recall (Selamat): 0.51\n"
          ]
        }
      ]
    },
    {
      "cell_type": "markdown",
      "source": [
        "Precision: Berapa banyak dari prediksi \"selamat\" yang benar.\n",
        "\n",
        "Recall: Seberapa baik model dapat mendeteksi penumpang yang benar-benar selamat."
      ],
      "metadata": {
        "id": "H6i6qWnfmz4n"
      }
    },
    {
      "cell_type": "markdown",
      "source": [
        "b. Berapa banyak penumpang yang diprediksi selamat, dan berapa diantaranya benar-benar selamat?"
      ],
      "metadata": {
        "id": "-nIdnQtum14B"
      }
    },
    {
      "cell_type": "code",
      "source": [
        "\n",
        "\n",
        "# Confusion Matrix untuk model terbaik (Random Forest)\n",
        "conf_matrix = confusion_matrix(y_test, y_pred_rf)\n",
        "\n",
        "# Jumlah prediksi selamat dan benar-benar selamat\n",
        "predicted_survived = conf_matrix[1, 1]  # True Positive\n",
        "total_predicted_survived = conf_matrix[:, 1].sum()  # Total Prediksi Selamat\n",
        "\n",
        "print(\"Confusion Matrix:\")\n",
        "print(conf_matrix)\n",
        "print(f\"Total Diprediksi Selamat: {total_predicted_survived}\")\n",
        "print(f\"Benar-Benar Selamat: {predicted_survived}\")\n"
      ],
      "metadata": {
        "colab": {
          "base_uri": "https://localhost:8080/"
        },
        "id": "SMrGNwz6m1MS",
        "outputId": "bbeed7fe-3a70-4e46-e24a-f86e04acb23b"
      },
      "execution_count": 25,
      "outputs": [
        {
          "output_type": "stream",
          "name": "stdout",
          "text": [
            "Confusion Matrix:\n",
            "[[74 36]\n",
            " [34 35]]\n",
            "Total Diprediksi Selamat: 71\n",
            "Benar-Benar Selamat: 35\n"
          ]
        }
      ]
    }
  ]
}